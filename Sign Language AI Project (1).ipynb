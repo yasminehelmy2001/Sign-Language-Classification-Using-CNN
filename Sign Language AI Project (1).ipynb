{
  "cells": [
    {
      "cell_type": "markdown",
      "source": [
        "# Sign Language Classification Using CNN"
      ],
      "metadata": {
        "id": "mGyFE6yaqdGd"
      }
    },
    {
      "cell_type": "markdown",
      "source": [
        "Prepared & Presented by: Habiba Hassan 18-11594, Jaida Adel 18-06393, Yasmin Amr 18-03452"
      ],
      "metadata": {
        "id": "PJ0exNRM-GPN"
      }
    },
    {
      "cell_type": "markdown",
      "source": [
        "**Problem Statement**: People who suffer from mutism are unable to blend into the community. They use hand signs to communicate, hence normal people face problems trying to understand them. AI technologies can play a crucial role in breaking down these communication barriers, it can contribute significantly to their social inclusion. In the wake of this news, our team has decided to carry this project.\n",
        "\n",
        "\n",
        "\n"
      ],
      "metadata": {
        "id": "kVxfw4x5rFwX"
      }
    },
    {
      "cell_type": "markdown",
      "source": [
        "**Motivation**: Communication is one of the basic requirements for survival in society. Our main goal is to make these people feel included, and cared for so that they can blend into the community and show their skills."
      ],
      "metadata": {
        "id": "ANovIjYnuWIc"
      }
    },
    {
      "cell_type": "markdown",
      "source": [
        "**Data Description**: Our data consists of 24 letters of the English sign language pictures. Their pixels were set into CSV files."
      ],
      "metadata": {
        "id": "qVjMeKAFwlTn"
      }
    },
    {
      "cell_type": "code",
      "execution_count": null,
      "metadata": {
        "id": "aXDuI7KIJjkr"
      },
      "outputs": [],
      "source": [
        "import os\n",
        "import numpy as np #Math library\n",
        "from PIL import Image #Python Imaging Library\n",
        "%matplotlib inline \n",
        "import matplotlib.pyplot as plt #Data Visulaization Library\n",
        "from keras.utils.np_utils import to_categorical \n",
        "from keras.preprocessing.image import ImageDataGenerator #Used for \n",
        "from keras.applications.vgg16 import preprocess_input\n",
        "import tensorflow #Framework that has the standard models\n",
        "from keras.models import Sequential,Model\n",
        "from tensorflow.keras.layers import Flatten,Dense,Dropout,LeakyReLU,ReLU,Conv2D, MaxPool2D,BatchNormalization\n",
        "from tensorflow.keras.optimizers import Adam #Optimization Function\n",
        "from sklearn.metrics import accuracy_score\n",
        "from datetime import datetime\n",
        "from keras.callbacks import ModelCheckpoint\n",
        "from tensorflow.keras.callbacks import EarlyStopping\n",
        "from keras.callbacks import ReduceLROnPlateau\n",
        "%matplotlib inline\n",
        "import matplotlib.pyplot as plt\n",
        "import numpy as np\n",
        "from sklearn.metrics import confusion_matrix, classification_report\n",
        "import numpy as np # linear algebra\n",
        "import pandas as pd # data processing, CSV file I/O (e.g. pd.read_csv)\n",
        "import matplotlib.pyplot as plt\n",
        "import seaborn as sns"
      ]
    },
    {
      "cell_type": "code",
      "execution_count": null,
      "metadata": {
        "colab": {
          "base_uri": "https://localhost:8080/"
        },
        "id": "adh_v-GgJsvE",
        "outputId": "3fb8c320-f1f2-433a-d1ff-919367561fbd"
      },
      "outputs": [
        {
          "name": "stdout",
          "output_type": "stream",
          "text": [
            "Looking in indexes: https://pypi.org/simple, https://us-python.pkg.dev/colab-wheels/public/simple/\n",
            "Requirement already satisfied: kaggle in /usr/local/lib/python3.8/dist-packages (1.5.12)\n",
            "Requirement already satisfied: certifi in /usr/local/lib/python3.8/dist-packages (from kaggle) (2022.12.7)\n",
            "Requirement already satisfied: requests in /usr/local/lib/python3.8/dist-packages (from kaggle) (2.23.0)\n",
            "Requirement already satisfied: six>=1.10 in /usr/local/lib/python3.8/dist-packages (from kaggle) (1.15.0)\n",
            "Requirement already satisfied: python-slugify in /usr/local/lib/python3.8/dist-packages (from kaggle) (7.0.0)\n",
            "Requirement already satisfied: tqdm in /usr/local/lib/python3.8/dist-packages (from kaggle) (4.64.1)\n",
            "Requirement already satisfied: python-dateutil in /usr/local/lib/python3.8/dist-packages (from kaggle) (2.8.2)\n",
            "Requirement already satisfied: urllib3 in /usr/local/lib/python3.8/dist-packages (from kaggle) (1.24.3)\n",
            "Requirement already satisfied: text-unidecode>=1.3 in /usr/local/lib/python3.8/dist-packages (from python-slugify->kaggle) (1.3)\n",
            "Requirement already satisfied: chardet<4,>=3.0.2 in /usr/local/lib/python3.8/dist-packages (from requests->kaggle) (3.0.4)\n",
            "Requirement already satisfied: idna<3,>=2.5 in /usr/local/lib/python3.8/dist-packages (from requests->kaggle) (2.10)\n",
            "mkdir: cannot create directory ‘/root/.kaggle’: File exists\n"
          ]
        }
      ],
      "source": [
        "#how to load data from kaggle\n",
        "! pip install kaggle\n",
        "! mkdir ~/.kaggle\n",
        "! cp kaggle.json ~/.kaggle/\n",
        "! chmod 600 ~/.kaggle/kaggle.json\n"
      ]
    },
    {
      "cell_type": "code",
      "execution_count": null,
      "metadata": {
        "colab": {
          "base_uri": "https://localhost:8080/"
        },
        "id": "SG4-epNXJxuA",
        "outputId": "17c0a19a-69b0-420d-fc25-4ca28500c696"
      },
      "outputs": [
        {
          "name": "stdout",
          "output_type": "stream",
          "text": [
            "Downloading sign-language-mnist.zip to /content/dataset\n",
            " 99% 62.0M/62.6M [00:00<00:00, 152MB/s] \n",
            "100% 62.6M/62.6M [00:00<00:00, 119MB/s]\n"
          ]
        }
      ],
      "source": [
        "!kaggle datasets download -d datamunge/sign-language-mnist -p /content/dataset"
      ]
    },
    {
      "cell_type": "code",
      "execution_count": null,
      "metadata": {
        "colab": {
          "base_uri": "https://localhost:8080/"
        },
        "id": "x_X4_pz3J2VX",
        "outputId": "b87cf6ff-9bce-4fc3-d02b-873a16b6926c"
      },
      "outputs": [
        {
          "name": "stdout",
          "output_type": "stream",
          "text": [
            "Archive:  /content/dataset/sign-language-mnist.zip\n",
            "  inflating: amer_sign2.png          \n",
            "  inflating: amer_sign3.png          \n",
            "  inflating: american_sign_language.PNG  \n",
            "  inflating: sign_mnist_test.csv     \n",
            "  inflating: sign_mnist_test/sign_mnist_test.csv  \n",
            "  inflating: sign_mnist_train.csv    \n",
            "  inflating: sign_mnist_train/sign_mnist_train.csv  \n"
          ]
        }
      ],
      "source": [
        "!unzip /content/dataset/sign-language-mnist.zip #Unzipping Data"
      ]
    },
    {
      "cell_type": "code",
      "execution_count": null,
      "metadata": {
        "id": "fviXyuyOJ9gH"
      },
      "outputs": [],
      "source": [
        "train_df = pd.read_csv(\"/content/sign_mnist_train/sign_mnist_train.csv\")#Reading the CSV files into the colab notebook\n",
        "test_df = pd.read_csv(\"/content/sign_mnist_test/sign_mnist_test.csv\")"
      ]
    },
    {
      "cell_type": "code",
      "execution_count": null,
      "metadata": {
        "id": "-rx7UFVOKfy8"
      },
      "outputs": [],
      "source": [
        "y_train = train_df['label']\n",
        "y_test = test_df['label']\n",
        "del train_df['label']\n",
        "del test_df['label']"
      ]
    },
    {
      "cell_type": "code",
      "execution_count": null,
      "metadata": {
        "id": "rbcBW9eyKqiX"
      },
      "outputs": [],
      "source": [
        "from sklearn.preprocessing import LabelBinarizer\n",
        "label_binarizer = LabelBinarizer()\n",
        "y_train = label_binarizer.fit_transform(y_train)\n",
        "y_test = label_binarizer.fit_transform(y_test)"
      ]
    },
    {
      "cell_type": "code",
      "execution_count": null,
      "metadata": {
        "id": "8zPkqBySKsIt"
      },
      "outputs": [],
      "source": [
        "x_train = train_df.values\n",
        "x_test = test_df.values"
      ]
    },
    {
      "cell_type": "code",
      "execution_count": null,
      "metadata": {
        "id": "cfq-ViKXKtWA"
      },
      "outputs": [],
      "source": [
        "# Normalize the data\n",
        "x_train = x_train / 255 #Normalization\n",
        "x_test = x_test / 255\n",
        "# Reshaping the data from 1-D to 3-D as required through input by CNN's\n",
        "x_train = x_train.reshape(-1,28,28,1)\n",
        "x_test = x_test.reshape(-1,28,28,1)"
      ]
    },
    {
      "cell_type": "code",
      "execution_count": null,
      "metadata": {
        "id": "C_1aFzjUU0l_"
      },
      "outputs": [],
      "source": []
    },
    {
      "cell_type": "code",
      "execution_count": null,
      "metadata": {
        "id": "bU1MUcbtKycU"
      },
      "outputs": [],
      "source": [
        "# With data augmentation to prevent overfitting\n",
        "\n",
        "#datagen = ImageDataGenerator(\n",
        "#  \n",
        "#        rotation_range=10,  # randomly rotate images in the range (degrees, 0 to 180)\n",
        "#        zoom_range = 0.1, # Randomly zoom image \n",
        "#        width_shift_range=0.1,  # randomly shift images horizontally (fraction of total width)\n",
        "#        height_shift_range=0.1,  # randomly shift images vertically (fraction of total height)\n",
        "#        horizontal_flip=False,  # randomly flip images\n",
        "#        vertical_flip=False)  # randomly flip images\n",
        "#datagen.fit(x_train)\n",
        "\n",
        "datagen = ImageDataGenerator(\n",
        "                                       zoom_range = 0.2,\n",
        "                                       vertical_flip = True , \n",
        "                                       rotation_range=10,\n",
        "                                       horizontal_flip = True,\n",
        "                                width_shift_range=0.1, \n",
        "                                  height_shift_range=0.1, )\n",
        "datagen.fit(x_train)"
      ]
    },
    {
      "cell_type": "code",
      "execution_count": null,
      "metadata": {
        "id": "J8JbMh6QX3VM"
      },
      "outputs": [],
      "source": [
        "learning_rate_reduction = ReduceLROnPlateau(monitor='val_accuracy', patience = 2, verbose=1,factor=0.5, min_lr=0.00001)"
      ]
    },
    {
      "cell_type": "code",
      "execution_count": null,
      "metadata": {
        "colab": {
          "base_uri": "https://localhost:8080/"
        },
        "id": "ty-inZyFjp_6",
        "outputId": "6a80a743-dde7-4608-d6e9-f5aabc436dfd"
      },
      "outputs": [
        {
          "name": "stdout",
          "output_type": "stream",
          "text": [
            "Epoch 1/20\n",
            "215/215 [==============================] - 57s 262ms/step - loss: 2.8132 - accuracy: 0.1587 - val_loss: 2.1117 - val_accuracy: 0.3600\n",
            "Epoch 2/20\n",
            "215/215 [==============================] - 55s 257ms/step - loss: 2.1730 - accuracy: 0.3143 - val_loss: 1.5925 - val_accuracy: 0.5268\n",
            "Epoch 3/20\n",
            "215/215 [==============================] - 51s 238ms/step - loss: 1.9060 - accuracy: 0.3873 - val_loss: 1.3543 - val_accuracy: 0.5842\n",
            "Epoch 4/20\n",
            "215/215 [==============================] - 50s 234ms/step - loss: 1.6916 - accuracy: 0.4538 - val_loss: 1.1536 - val_accuracy: 0.6400\n",
            "Epoch 5/20\n",
            "215/215 [==============================] - 58s 269ms/step - loss: 1.5292 - accuracy: 0.5010 - val_loss: 1.0050 - val_accuracy: 0.6786\n",
            "Epoch 6/20\n",
            "215/215 [==============================] - 53s 249ms/step - loss: 1.3967 - accuracy: 0.5472 - val_loss: 0.9524 - val_accuracy: 0.6820\n",
            "Epoch 7/20\n",
            "215/215 [==============================] - 50s 233ms/step - loss: 1.2836 - accuracy: 0.5772 - val_loss: 0.8106 - val_accuracy: 0.7391\n",
            "Epoch 8/20\n",
            "215/215 [==============================] - 50s 234ms/step - loss: 1.2122 - accuracy: 0.6003 - val_loss: 0.7898 - val_accuracy: 0.7369\n",
            "Epoch 9/20\n",
            "215/215 [==============================] - 53s 246ms/step - loss: 1.1516 - accuracy: 0.6165 - val_loss: 0.6498 - val_accuracy: 0.7853\n",
            "Epoch 10/20\n",
            "215/215 [==============================] - 50s 234ms/step - loss: 1.0829 - accuracy: 0.6398 - val_loss: 0.6345 - val_accuracy: 0.7971\n",
            "Epoch 11/20\n",
            "215/215 [==============================] - 52s 241ms/step - loss: 1.0346 - accuracy: 0.6519 - val_loss: 0.5852 - val_accuracy: 0.8197\n",
            "Epoch 12/20\n",
            "215/215 [==============================] - 50s 234ms/step - loss: 0.9975 - accuracy: 0.6649 - val_loss: 0.5753 - val_accuracy: 0.8123\n",
            "Epoch 13/20\n",
            "215/215 [==============================] - 51s 239ms/step - loss: 0.9647 - accuracy: 0.6723 - val_loss: 0.5163 - val_accuracy: 0.8490\n",
            "Epoch 14/20\n",
            "215/215 [==============================] - 53s 246ms/step - loss: 0.9166 - accuracy: 0.6900 - val_loss: 0.4745 - val_accuracy: 0.8475\n",
            "Epoch 15/20\n",
            "215/215 [==============================] - 51s 239ms/step - loss: 0.8894 - accuracy: 0.7004 - val_loss: 0.4658 - val_accuracy: 0.8390\n",
            "Epoch 16/20\n",
            "215/215 [==============================] - 53s 247ms/step - loss: 0.8507 - accuracy: 0.7128 - val_loss: 0.4532 - val_accuracy: 0.8543\n",
            "Epoch 17/20\n",
            "215/215 [==============================] - 52s 242ms/step - loss: 0.8323 - accuracy: 0.7197 - val_loss: 0.4196 - val_accuracy: 0.8539\n",
            "Epoch 18/20\n",
            "215/215 [==============================] - 50s 234ms/step - loss: 0.8088 - accuracy: 0.7236 - val_loss: 0.3868 - val_accuracy: 0.8787\n",
            "Epoch 19/20\n",
            "215/215 [==============================] - 51s 236ms/step - loss: 0.7771 - accuracy: 0.7360 - val_loss: 0.3838 - val_accuracy: 0.8832\n",
            "Epoch 20/20\n",
            "215/215 [==============================] - 51s 237ms/step - loss: 0.7681 - accuracy: 0.7367 - val_loss: 0.3634 - val_accuracy: 0.8779\n"
          ]
        }
      ],
      "source": [
        "model = Sequential()\n",
        "model.add(Conv2D(75 , (3,3) , strides = 1 , padding = 'same' , activation = 'relu' , input_shape = (28,28,1)))\n",
        "model.add(MaxPool2D((2,2) , strides = 2 , padding = 'same'))\n",
        "model.add(Flatten())\n",
        "model.add(Dense(units = 512 , activation = 'relu'))\n",
        "model.add(Dropout(0.3))\n",
        "model.add(Dense(units = 24 , activation = 'softmax'))\n",
        "model.compile(optimizer = 'adam' , loss = 'categorical_crossentropy' , metrics = ['accuracy'])\n",
        "model.compile(optimizer = 'adam' , loss = 'categorical_crossentropy' , metrics = ['accuracy'])\n",
        "history = model.fit(datagen.flow(x_train,y_train, batch_size = 128) ,epochs = 20 , validation_data = (x_test, y_test) )"
      ]
    },
    {
      "cell_type": "markdown",
      "source": [
        "**Model 1 Hyper Parameters:** \n",
        "\n",
        "*  One Convolution Layer (Filter 3x3)\n",
        "*  One Pooling Layer (Filter 2x2)\n",
        "*  One Hidden Layer of 512 Neurons\n",
        "*  Output Layer of 24 Neurons For 24 Letters"
      ],
      "metadata": {
        "id": "yLm0MSbryhZs"
      }
    },
    {
      "cell_type": "code",
      "execution_count": null,
      "metadata": {
        "colab": {
          "base_uri": "https://localhost:8080/",
          "height": 235
        },
        "id": "-xyMeJ64kB5y",
        "outputId": "e8744eb0-e483-46aa-d036-9307b9e47ea9"
      },
      "outputs": [
        {
          "output_type": "error",
          "ename": "NameError",
          "evalue": "ignored",
          "traceback": [
            "\u001b[0;31m---------------------------------------------------------------------------\u001b[0m",
            "\u001b[0;31mNameError\u001b[0m                                 Traceback (most recent call last)",
            "\u001b[0;32m<ipython-input-2-a1ce8525d60f>\u001b[0m in \u001b[0;36m<module>\u001b[0;34m\u001b[0m\n\u001b[0;32m----> 1\u001b[0;31m \u001b[0mplt\u001b[0m\u001b[0;34m.\u001b[0m\u001b[0mplot\u001b[0m\u001b[0;34m(\u001b[0m\u001b[0mhistory\u001b[0m\u001b[0;34m.\u001b[0m\u001b[0mhistory\u001b[0m\u001b[0;34m[\u001b[0m\u001b[0;34m'loss'\u001b[0m\u001b[0;34m]\u001b[0m\u001b[0;34m)\u001b[0m\u001b[0;34m\u001b[0m\u001b[0;34m\u001b[0m\u001b[0m\n\u001b[0m\u001b[1;32m      2\u001b[0m \u001b[0mplt\u001b[0m\u001b[0;34m.\u001b[0m\u001b[0mplot\u001b[0m\u001b[0;34m(\u001b[0m\u001b[0mhistory\u001b[0m\u001b[0;34m.\u001b[0m\u001b[0mhistory\u001b[0m\u001b[0;34m[\u001b[0m\u001b[0;34m'val_loss'\u001b[0m\u001b[0;34m]\u001b[0m\u001b[0;34m)\u001b[0m\u001b[0;34m\u001b[0m\u001b[0;34m\u001b[0m\u001b[0m\n\u001b[1;32m      3\u001b[0m \u001b[0mplt\u001b[0m\u001b[0;34m.\u001b[0m\u001b[0mlegend\u001b[0m\u001b[0;34m(\u001b[0m\u001b[0;34m[\u001b[0m\u001b[0;34m'Training'\u001b[0m\u001b[0;34m,\u001b[0m \u001b[0;34m'Validation'\u001b[0m\u001b[0;34m]\u001b[0m\u001b[0;34m)\u001b[0m\u001b[0;34m\u001b[0m\u001b[0;34m\u001b[0m\u001b[0m\n\u001b[1;32m      4\u001b[0m \u001b[0mplt\u001b[0m\u001b[0;34m.\u001b[0m\u001b[0mtitle\u001b[0m\u001b[0;34m(\u001b[0m\u001b[0;34m'Training and Validation losses'\u001b[0m\u001b[0;34m)\u001b[0m\u001b[0;34m\u001b[0m\u001b[0;34m\u001b[0m\u001b[0m\n\u001b[1;32m      5\u001b[0m \u001b[0mplt\u001b[0m\u001b[0;34m.\u001b[0m\u001b[0mxlabel\u001b[0m\u001b[0;34m(\u001b[0m\u001b[0;34m'epoch'\u001b[0m\u001b[0;34m)\u001b[0m\u001b[0;34m\u001b[0m\u001b[0;34m\u001b[0m\u001b[0m\n",
            "\u001b[0;31mNameError\u001b[0m: name 'history' is not defined"
          ]
        }
      ],
      "source": [
        "plt.plot(history.history['loss'])\n",
        "plt.plot(history.history['val_loss'])\n",
        "plt.legend(['Training', 'Validation'])\n",
        "plt.title('Training and Validation losses')\n",
        "plt.xlabel('epoch')"
      ]
    },
    {
      "cell_type": "code",
      "execution_count": null,
      "metadata": {
        "colab": {
          "base_uri": "https://localhost:8080/",
          "height": 312
        },
        "id": "_LYPjWWrkWTu",
        "outputId": "de6fcd7a-5936-464a-b028-a36aea8027a4"
      },
      "outputs": [
        {
          "data": {
            "text/plain": [
              "Text(0.5, 0, 'epoch')"
            ]
          },
          "execution_count": 18,
          "metadata": {},
          "output_type": "execute_result"
        },
        {
          "data": {
            "image/png": "[encoded data removed]",
            "text/plain": [
              "<Figure size 432x288 with 1 Axes>"
            ]
          },
          "metadata": {},
          "output_type": "display_data"
        }
      ],
      "source": [
        "plt.plot(history.history['accuracy'])\n",
        "plt.plot(history.history['val_accuracy'])\n",
        "plt.legend(['Training', 'Validation'])\n",
        "plt.title('Training and Validation accuracy')\n",
        "plt.xlabel('epoch')"
      ]
    },
    {
      "cell_type": "code",
      "execution_count": null,
      "metadata": {
        "colab": {
          "base_uri": "https://localhost:8080/"
        },
        "id": "fgnCYOw8K6Te",
        "outputId": "d363a8f7-46bc-4c98-d4ef-3ba5227bb9bf"
      },
      "outputs": [
        {
          "name": "stdout",
          "output_type": "stream",
          "text": [
            "Model: \"sequential_2\"\n",
            "_________________________________________________________________\n",
            " Layer (type)                Output Shape              Param #   \n",
            "=================================================================\n",
            " conv2d_2 (Conv2D)           (None, 28, 28, 75)        750       \n",
            "                                                                 \n",
            " max_pooling2d_2 (MaxPooling  (None, 14, 14, 75)       0         \n",
            " 2D)                                                             \n",
            "                                                                 \n",
            " conv2d_3 (Conv2D)           (None, 14, 14, 50)        33800     \n",
            "                                                                 \n",
            " dropout_2 (Dropout)         (None, 14, 14, 50)        0         \n",
            "                                                                 \n",
            " max_pooling2d_3 (MaxPooling  (None, 7, 7, 50)         0         \n",
            " 2D)                                                             \n",
            "                                                                 \n",
            " conv2d_4 (Conv2D)           (None, 7, 7, 25)          11275     \n",
            "                                                                 \n",
            " max_pooling2d_4 (MaxPooling  (None, 4, 4, 25)         0         \n",
            " 2D)                                                             \n",
            "                                                                 \n",
            " flatten_2 (Flatten)         (None, 400)               0         \n",
            "                                                                 \n",
            " dense_4 (Dense)             (None, 512)               205312    \n",
            "                                                                 \n",
            " dropout_3 (Dropout)         (None, 512)               0         \n",
            "                                                                 \n",
            " dense_5 (Dense)             (None, 24)                12312     \n",
            "                                                                 \n",
            "=================================================================\n",
            "Total params: 263,449\n",
            "Trainable params: 263,449\n",
            "Non-trainable params: 0\n",
            "_________________________________________________________________\n"
          ]
        }
      ],
      "source": [
        "model = Sequential()\n",
        "model.add(Conv2D(75 , (3,3) , strides = 1 , padding = 'same' , activation = 'relu' , input_shape = (28,28,1)))\n",
        "model.add(MaxPool2D((2,2) , strides = 2 , padding = 'same'))\n",
        "model.add(Conv2D(50 , (3,3) , strides = 1 , padding = 'same' , activation = 'relu'))\n",
        "model.add(Dropout(0.2))\n",
        "model.add(MaxPool2D((2,2) , strides = 2 , padding = 'same'))\n",
        "model.add(Conv2D(25 , (3,3) , strides = 1 , padding = 'same' , activation = 'relu'))\n",
        "model.add(MaxPool2D((2,2) , strides = 2 , padding = 'same'))\n",
        "model.add(Flatten()) #Put data in an array form\n",
        "model.add(Dense(units = 512 , activation = 'relu'))\n",
        "model.add(Dropout(0.3))\n",
        "model.add(Dense(units = 24 , activation = 'softmax'))\n",
        "model.compile(optimizer = 'adam' , loss = 'categorical_crossentropy' , metrics = ['accuracy'])\n",
        "model.summary()"
      ]
    },
    {
      "cell_type": "markdown",
      "source": [
        "**Model 2 Hyper Parameters:** \n",
        "\n",
        "*  Three Convolution Layers (Filter 3x3)\n",
        "*  Three Pooling Layers (Filter 2x2)\n",
        "*  One Hidden Layer of 512 Neurons\n",
        "*  Output Layer of 24 Neurons For 24 Letters"
      ],
      "metadata": {
        "id": "Hlo-yUtKz4Vj"
      }
    },
    {
      "cell_type": "code",
      "execution_count": null,
      "metadata": {
        "colab": {
          "base_uri": "https://localhost:8080/"
        },
        "id": "O6fTtVD4K9rH",
        "outputId": "ba4a640c-160b-4182-e944-51e0f2ec54be"
      },
      "outputs": [
        {
          "name": "stdout",
          "output_type": "stream",
          "text": [
            "Epoch 1/20\n",
            "215/215 [==============================] - 59s 272ms/step - loss: 2.8606 - accuracy: 0.1268 - val_loss: 2.3946 - val_accuracy: 0.2639\n",
            "Epoch 2/20\n",
            "215/215 [==============================] - 60s 280ms/step - loss: 2.0572 - accuracy: 0.3384 - val_loss: 1.4948 - val_accuracy: 0.5481\n",
            "Epoch 3/20\n",
            "215/215 [==============================] - 59s 274ms/step - loss: 1.5246 - accuracy: 0.4973 - val_loss: 1.0893 - val_accuracy: 0.6638\n",
            "Epoch 4/20\n",
            "215/215 [==============================] - 60s 277ms/step - loss: 1.2041 - accuracy: 0.5956 - val_loss: 0.8138 - val_accuracy: 0.7474\n",
            "Epoch 5/20\n",
            "215/215 [==============================] - 59s 274ms/step - loss: 1.0074 - accuracy: 0.6529 - val_loss: 0.6630 - val_accuracy: 0.8067\n",
            "Epoch 6/20\n",
            "215/215 [==============================] - 60s 280ms/step - loss: 0.8688 - accuracy: 0.7002 - val_loss: 0.5126 - val_accuracy: 0.8366\n",
            "Epoch 7/20\n",
            "215/215 [==============================] - 58s 269ms/step - loss: 0.7626 - accuracy: 0.7362 - val_loss: 0.4237 - val_accuracy: 0.8793\n",
            "Epoch 8/20\n",
            "215/215 [==============================] - 59s 274ms/step - loss: 0.6766 - accuracy: 0.7652 - val_loss: 0.4004 - val_accuracy: 0.8829\n",
            "Epoch 9/20\n",
            "215/215 [==============================] - 59s 274ms/step - loss: 0.6336 - accuracy: 0.7826 - val_loss: 0.3841 - val_accuracy: 0.8843\n",
            "Epoch 10/20\n",
            "215/215 [==============================] - 59s 276ms/step - loss: 0.5757 - accuracy: 0.8001 - val_loss: 0.3306 - val_accuracy: 0.9106\n",
            "Epoch 11/20\n",
            "215/215 [==============================] - 59s 276ms/step - loss: 0.5221 - accuracy: 0.8191 - val_loss: 0.2765 - val_accuracy: 0.9134\n",
            "Epoch 12/20\n",
            "215/215 [==============================] - 59s 274ms/step - loss: 0.4920 - accuracy: 0.8310 - val_loss: 0.2991 - val_accuracy: 0.9108\n",
            "Epoch 13/20\n",
            "215/215 [==============================] - 60s 278ms/step - loss: 0.4411 - accuracy: 0.8452 - val_loss: 0.2656 - val_accuracy: 0.9204\n",
            "Epoch 14/20\n",
            "215/215 [==============================] - 58s 268ms/step - loss: 0.4283 - accuracy: 0.8522 - val_loss: 0.2148 - val_accuracy: 0.9283\n",
            "Epoch 15/20\n",
            "215/215 [==============================] - 59s 274ms/step - loss: 0.3948 - accuracy: 0.8638 - val_loss: 0.2076 - val_accuracy: 0.9332\n",
            "Epoch 16/20\n",
            "215/215 [==============================] - 60s 280ms/step - loss: 0.3624 - accuracy: 0.8742 - val_loss: 0.2301 - val_accuracy: 0.9253\n",
            "Epoch 17/20\n",
            "215/215 [==============================] - 60s 277ms/step - loss: 0.3525 - accuracy: 0.8796 - val_loss: 0.1839 - val_accuracy: 0.9373\n",
            "Epoch 18/20\n",
            "215/215 [==============================] - 59s 276ms/step - loss: 0.3471 - accuracy: 0.8807 - val_loss: 0.1391 - val_accuracy: 0.9610\n",
            "Epoch 19/20\n",
            "215/215 [==============================] - 60s 281ms/step - loss: 0.3292 - accuracy: 0.8874 - val_loss: 0.1572 - val_accuracy: 0.9603\n",
            "Epoch 20/20\n",
            "215/215 [==============================] - 60s 279ms/step - loss: 0.3035 - accuracy: 0.8960 - val_loss: 0.1782 - val_accuracy: 0.9497\n"
          ]
        }
      ],
      "source": [
        "history = model.fit(datagen.flow(x_train,y_train, batch_size = 128) ,epochs = 20 , validation_data = (x_test, y_test) )"
      ]
    },
    {
      "cell_type": "code",
      "execution_count": null,
      "metadata": {
        "colab": {
          "base_uri": "https://localhost:8080/",
          "height": 312
        },
        "id": "ncqubB_tLBlk",
        "outputId": "0d1b19d3-e770-4342-c026-dfc0c57a47b6"
      },
      "outputs": [
        {
          "data": {
            "text/plain": [
              "Text(0.5, 0, 'epoch')"
            ]
          },
          "execution_count": 21,
          "metadata": {},
          "output_type": "execute_result"
        },
        {
          "data": {
            "image/png": "[encoded data removed]",
            "text/plain": [
              "<Figure size 432x288 with 1 Axes>"
            ]
          },
          "metadata": {},
          "output_type": "display_data"
        }
      ],
      "source": [
        "plt.plot(history.history['loss'])\n",
        "plt.plot(history.history['val_loss'])\n",
        "plt.legend(['Training', 'Validation'])\n",
        "plt.title('Training and Validation losses')\n",
        "plt.xlabel('epoch')"
      ]
    },
    {
      "cell_type": "code",
      "execution_count": null,
      "metadata": {
        "colab": {
          "base_uri": "https://localhost:8080/",
          "height": 312
        },
        "id": "UwDe42-vgv0R",
        "outputId": "5ea463be-3040-4781-d1e9-2a358d68a5a9"
      },
      "outputs": [
        {
          "data": {
            "text/plain": [
              "Text(0.5, 0, 'epoch')"
            ]
          },
          "execution_count": 22,
          "metadata": {},
          "output_type": "execute_result"
        },
        {
          "data": {
            "image/png": "[encoded data removed]",
            "text/plain": [
              "<Figure size 432x288 with 1 Axes>"
            ]
          },
          "metadata": {},
          "output_type": "display_data"
        }
      ],
      "source": [
        "plt.plot(history.history['accuracy'])\n",
        "plt.plot(history.history['val_accuracy'])\n",
        "plt.legend(['Training', 'Validation'])\n",
        "plt.title('Training and Validation accuracy')\n",
        "plt.xlabel('epoch')"
      ]
    },
    {
      "cell_type": "code",
      "execution_count": null,
      "metadata": {
        "colab": {
          "background_save": true,
          "base_uri": "https://localhost:8080/"
        },
        "id": "2JM_fW_AB9ZU",
        "outputId": "fdb442e6-cef9-41b5-9a66-2212f8c58b6e"
      },
      "outputs": [
        {
          "name": "stdout",
          "output_type": "stream",
          "text": [
            "Epoch 1/20\n",
            "215/215 [==============================] - 95s 440ms/step - loss: 2.8870 - accuracy: 0.1179 - val_loss: 2.2111 - val_accuracy: 0.3192\n",
            "Epoch 2/20\n",
            "215/215 [==============================] - 98s 454ms/step - loss: 1.9178 - accuracy: 0.3628 - val_loss: 1.1837 - val_accuracy: 0.6559\n",
            "Epoch 3/20\n",
            "215/215 [==============================] - 94s 438ms/step - loss: 1.2942 - accuracy: 0.5522 - val_loss: 0.7824 - val_accuracy: 0.7394\n",
            "Epoch 4/20\n",
            "215/215 [==============================] - 94s 435ms/step - loss: 0.9838 - accuracy: 0.6525 - val_loss: 0.5940 - val_accuracy: 0.8132\n",
            "Epoch 5/20\n",
            "215/215 [==============================] - 95s 441ms/step - loss: 0.8114 - accuracy: 0.7139 - val_loss: 0.4966 - val_accuracy: 0.8351\n",
            "Epoch 6/20\n",
            "215/215 [==============================] - 91s 422ms/step - loss: 0.6869 - accuracy: 0.7580 - val_loss: 0.3666 - val_accuracy: 0.8844\n",
            "Epoch 7/20\n",
            "215/215 [==============================] - 89s 415ms/step - loss: 0.5904 - accuracy: 0.7888 - val_loss: 0.4127 - val_accuracy: 0.8604\n",
            "Epoch 8/20\n",
            "215/215 [==============================] - 93s 434ms/step - loss: 0.5378 - accuracy: 0.8113 - val_loss: 0.3633 - val_accuracy: 0.8717\n",
            "Epoch 9/20\n",
            "215/215 [==============================] - 89s 415ms/step - loss: 0.4809 - accuracy: 0.8293 - val_loss: 0.2468 - val_accuracy: 0.9207\n",
            "Epoch 10/20\n",
            "215/215 [==============================] - 89s 413ms/step - loss: 0.4349 - accuracy: 0.8480 - val_loss: 0.2219 - val_accuracy: 0.9257\n",
            "Epoch 11/20\n",
            "215/215 [==============================] - 92s 426ms/step - loss: 0.3963 - accuracy: 0.8592 - val_loss: 0.1626 - val_accuracy: 0.9519\n",
            "Epoch 12/20\n",
            "215/215 [==============================] - 93s 434ms/step - loss: 0.3538 - accuracy: 0.8755 - val_loss: 0.1426 - val_accuracy: 0.9589\n",
            "Epoch 13/20\n",
            "215/215 [==============================] - 93s 434ms/step - loss: 0.3278 - accuracy: 0.8867 - val_loss: 0.1226 - val_accuracy: 0.9618\n",
            "Epoch 14/20\n",
            "215/215 [==============================] - 91s 422ms/step - loss: 0.3086 - accuracy: 0.8926 - val_loss: 0.0949 - val_accuracy: 0.9724\n",
            "Epoch 15/20\n",
            "215/215 [==============================] - 91s 424ms/step - loss: 0.2902 - accuracy: 0.8990 - val_loss: 0.1236 - val_accuracy: 0.9646\n",
            "Epoch 16/20\n",
            "215/215 [==============================] - 91s 424ms/step - loss: 0.2700 - accuracy: 0.9055 - val_loss: 0.0891 - val_accuracy: 0.9685\n",
            "Epoch 17/20\n",
            "215/215 [==============================] - 89s 415ms/step - loss: 0.2580 - accuracy: 0.9104 - val_loss: 0.0955 - val_accuracy: 0.9668\n",
            "Epoch 18/20\n",
            "215/215 [==============================] - 90s 417ms/step - loss: 0.2506 - accuracy: 0.9145 - val_loss: 0.0664 - val_accuracy: 0.9840\n",
            "Epoch 19/20\n",
            "215/215 [==============================] - 89s 413ms/step - loss: 0.2269 - accuracy: 0.9214 - val_loss: 0.0592 - val_accuracy: 0.9799\n",
            "Epoch 20/20\n",
            "215/215 [==============================] - 89s 415ms/step - loss: 0.2217 - accuracy: 0.9215 - val_loss: 0.0614 - val_accuracy: 0.9780\n"
          ]
        }
      ],
      "source": [
        "model = Sequential()\n",
        "model.add(Conv2D(75 , (3,3) , strides = 1 , padding = 'same' , activation = 'relu' , input_shape = (28,28,1)))\n",
        "model.add(MaxPool2D((2,2) , strides = 2 , padding = 'same'))\n",
        "model.add(Conv2D(50 , (3,3) , strides = 1 , padding = 'same' , activation = 'relu'))\n",
        "model.add(Dropout(0.2))\n",
        "model.add(MaxPool2D((2,2) , strides = 2 , padding = 'same'))\n",
        "model.add(Conv2D(50 , (3,3) , strides = 1 , padding = 'same' , activation = 'relu'))\n",
        "model.add(MaxPool2D((2,2) , strides = 2 , padding = 'same'))\n",
        "model.add(Flatten())\n",
        "model.add(Dense(units = 512 , activation = 'relu'))\n",
        "model.add(Dropout(0.3)) #Randomly selected neurons are ignored to improve processing & time to results\n",
        "model.add(Dense(units = 256 , activation = 'relu'))\n",
        "model.add(Dropout(0.3))\n",
        "model.add(Dense(units = 24 , activation = 'softmax'))\n",
        "model.compile(optimizer = 'adam' , loss = 'categorical_crossentropy' , metrics = ['accuracy'])\n",
        "history = model.fit(datagen.flow(x_train,y_train, batch_size = 128) ,epochs = 20 , validation_data = (x_test, y_test) )"
      ]
    },
    {
      "cell_type": "markdown",
      "source": [
        "**Model 3 Hyper Parameters:** \n",
        "\n",
        "*  Three Convolution Layers (Filter 3x3)\n",
        "*  Three Pooling Layers (Filter 2x2)\n",
        "*  Two Hidden Layers of 512 Neurons & 256 Neurons\n",
        "*  Output Layer of 24 Neurons For 24 Letters"
      ],
      "metadata": {
        "id": "23lH0HHz0bON"
      }
    },
    {
      "cell_type": "markdown",
      "source": [
        "When you have training data, if you try to train your model too much, it might overfit, and when you get the actual test data for making predictions, it will not probably perform well. Dropout regularization is one technique used to tackle overfitting problems in deep learning."
      ],
      "metadata": {
        "id": "RCXurzoV27n4"
      }
    },
    {
      "cell_type": "code",
      "execution_count": null,
      "metadata": {
        "colab": {
          "base_uri": "https://localhost:8080/",
          "height": 312
        },
        "id": "aHxFhYwkCSIz",
        "outputId": "319dc354-bbc9-4baa-c87c-dda40f667524"
      },
      "outputs": [
        {
          "data": {
            "text/plain": [
              "Text(0.5, 0, 'epoch')"
            ]
          },
          "execution_count": 29,
          "metadata": {},
          "output_type": "execute_result"
        },
        {
          "data": {
            "image/png": "[encoded data removed]",
            "text/plain": [
              "<Figure size 432x288 with 1 Axes>"
            ]
          },
          "metadata": {},
          "output_type": "display_data"
        }
      ],
      "source": [
        "plt.plot(history.history['loss'])\n",
        "plt.plot(history.history['val_loss'])\n",
        "plt.legend(['Training', 'Validation'])\n",
        "plt.title('Training and Validation losses')\n",
        "plt.xlabel('epoch')"
      ]
    },
    {
      "cell_type": "markdown",
      "source": [
        "**Results Analysis**: As shown above, the losses curve is decreasing with every epoch which means our model is successfully learning."
      ],
      "metadata": {
        "id": "8BWb5GNB2BHn"
      }
    },
    {
      "cell_type": "code",
      "execution_count": null,
      "metadata": {
        "colab": {
          "base_uri": "https://localhost:8080/",
          "height": 312
        },
        "id": "ZnBVh11IMz-U",
        "outputId": "77ae8f40-14cb-470e-9cc2-2c0e9c86f71a"
      },
      "outputs": [
        {
          "data": {
            "text/plain": [
              "Text(0.5, 0, 'epoch')"
            ]
          },
          "execution_count": 30,
          "metadata": {},
          "output_type": "execute_result"
        },
        {
          "data": {
            "image/png": "[encoded data removed]",
            "text/plain": [
              "<Figure size 432x288 with 1 Axes>"
            ]
          },
          "metadata": {},
          "output_type": "display_data"
        }
      ],
      "source": [
        "plt.plot(history.history['accuracy'])\n",
        "plt.plot(history.history['val_accuracy'])\n",
        "plt.legend(['Training', 'Validation'])\n",
        "plt.title('Training and Validation accuracy')\n",
        "plt.xlabel('epoch')"
      ]
    },
    {
      "cell_type": "markdown",
      "source": [
        "**Results Analysis**: As shown above, the accuracy curve is increasing with every epoch which means our model is successfully learning."
      ],
      "metadata": {
        "id": "I7sRylB32fv1"
      }
    },
    {
      "cell_type": "markdown",
      "source": [
        "**Comparison**: \n",
        "\n",
        "\n",
        "1.   MODEL ONE: Although the validation accuracy increased with epochs, it only reached 0.8779.\n",
        "2.   MODEL TWO:Increasing the number of covolution & pooling layers has affected the validation accuracy that it jumped to 0.9497.\n",
        "3.   MODEL THREE: Adding more hidden layers i.e More neurons, the validation accuracy has shown greater improvement. It rose to 0.9780.\n",
        "This has proved that as the number of layers, and filters increase, also as different activation functions are put to trial with different types of data, the accuracy increases. "
      ],
      "metadata": {
        "id": "XpnRQX3m3S3a"
      }
    },
    {
      "cell_type": "markdown",
      "source": [
        "**References**: \n",
        "\n",
        "\n",
        "* https://www.kaggle.com/\n",
        "* https://www.tensorflow.org/tutorials/images/cnn\n",
        "* https://towardsdatascience.com/a-guide-to-an-efficient-way-to-build-neural-network-architectures-part-ii-hyper-parameter-42efca01e5d7\n",
        "\n"
      ],
      "metadata": {
        "id": "28WvQSXO-Xch"
      }
    }
  ],
  "metadata": {
    "colab": {
      "provenance": []
    },
    "kernelspec": {
      "display_name": "Python 3",
      "name": "python3"
    },
    "language_info": {
      "name": "python"
    }
  },
  "nbformat": 4,
  "nbformat_minor": 0
}